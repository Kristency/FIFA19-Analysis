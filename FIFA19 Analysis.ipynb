{
 "cells": [
  {
   "cell_type": "markdown",
   "metadata": {},
   "source": [
    "# FIFA 19 game analysis"
   ]
  },
  {
   "cell_type": "code",
   "execution_count": 1,
   "metadata": {},
   "outputs": [],
   "source": [
    "import matplotlib.pyplot as plt\n",
    "import pandas as pd\n",
    "import numpy as np\n",
    "import seaborn as sns\n",
    "sns.set()"
   ]
  },
  {
   "cell_type": "code",
   "execution_count": 2,
   "metadata": {},
   "outputs": [],
   "source": [
    "data = pd.read_csv('FIFA19.csv')"
   ]
  },
  {
   "cell_type": "code",
   "execution_count": 3,
   "metadata": {},
   "outputs": [
    {
     "data": {
      "text/html": [
       "<div>\n",
       "<style scoped>\n",
       "    .dataframe tbody tr th:only-of-type {\n",
       "        vertical-align: middle;\n",
       "    }\n",
       "\n",
       "    .dataframe tbody tr th {\n",
       "        vertical-align: top;\n",
       "    }\n",
       "\n",
       "    .dataframe thead th {\n",
       "        text-align: right;\n",
       "    }\n",
       "</style>\n",
       "<table border=\"1\" class=\"dataframe\">\n",
       "  <thead>\n",
       "    <tr style=\"text-align: right;\">\n",
       "      <th></th>\n",
       "      <th>ID</th>\n",
       "      <th>Name</th>\n",
       "      <th>Age</th>\n",
       "      <th>Photo</th>\n",
       "      <th>Nationality</th>\n",
       "      <th>Flag</th>\n",
       "      <th>Overall</th>\n",
       "      <th>Potential</th>\n",
       "      <th>Club</th>\n",
       "      <th>Club Logo</th>\n",
       "      <th>...</th>\n",
       "      <th>Composure</th>\n",
       "      <th>Marking</th>\n",
       "      <th>StandingTackle</th>\n",
       "      <th>SlidingTackle</th>\n",
       "      <th>GKDiving</th>\n",
       "      <th>GKHandling</th>\n",
       "      <th>GKKicking</th>\n",
       "      <th>GKPositioning</th>\n",
       "      <th>GKReflexes</th>\n",
       "      <th>Release Clause</th>\n",
       "    </tr>\n",
       "  </thead>\n",
       "  <tbody>\n",
       "    <tr>\n",
       "      <th>0</th>\n",
       "      <td>16</td>\n",
       "      <td>Luis García</td>\n",
       "      <td>37</td>\n",
       "      <td>https://cdn.sofifa.org/players/4/19/16.png</td>\n",
       "      <td>Spain</td>\n",
       "      <td>https://cdn.sofifa.org/flags/45.png</td>\n",
       "      <td>71</td>\n",
       "      <td>71</td>\n",
       "      <td>KAS Eupen</td>\n",
       "      <td>https://cdn.sofifa.org/teams/2/light/2013.png</td>\n",
       "      <td>...</td>\n",
       "      <td>79.0</td>\n",
       "      <td>70.0</td>\n",
       "      <td>43.0</td>\n",
       "      <td>40.0</td>\n",
       "      <td>9.0</td>\n",
       "      <td>12.0</td>\n",
       "      <td>13.0</td>\n",
       "      <td>11.0</td>\n",
       "      <td>11.0</td>\n",
       "      <td>€1.1M</td>\n",
       "    </tr>\n",
       "    <tr>\n",
       "      <th>1</th>\n",
       "      <td>41</td>\n",
       "      <td>Iniesta</td>\n",
       "      <td>34</td>\n",
       "      <td>https://cdn.sofifa.org/players/4/19/41.png</td>\n",
       "      <td>Spain</td>\n",
       "      <td>https://cdn.sofifa.org/flags/45.png</td>\n",
       "      <td>86</td>\n",
       "      <td>86</td>\n",
       "      <td>Vissel Kobe</td>\n",
       "      <td>https://cdn.sofifa.org/teams/2/light/101146.png</td>\n",
       "      <td>...</td>\n",
       "      <td>89.0</td>\n",
       "      <td>67.0</td>\n",
       "      <td>57.0</td>\n",
       "      <td>56.0</td>\n",
       "      <td>6.0</td>\n",
       "      <td>13.0</td>\n",
       "      <td>6.0</td>\n",
       "      <td>13.0</td>\n",
       "      <td>7.0</td>\n",
       "      <td>€26.9M</td>\n",
       "    </tr>\n",
       "    <tr>\n",
       "      <th>2</th>\n",
       "      <td>80</td>\n",
       "      <td>E. Belözoğlu</td>\n",
       "      <td>37</td>\n",
       "      <td>https://cdn.sofifa.org/players/4/19/80.png</td>\n",
       "      <td>Turkey</td>\n",
       "      <td>https://cdn.sofifa.org/flags/48.png</td>\n",
       "      <td>79</td>\n",
       "      <td>79</td>\n",
       "      <td>Medipol Başakşehir FK</td>\n",
       "      <td>https://cdn.sofifa.org/teams/2/light/101014.png</td>\n",
       "      <td>...</td>\n",
       "      <td>80.0</td>\n",
       "      <td>65.0</td>\n",
       "      <td>67.0</td>\n",
       "      <td>60.0</td>\n",
       "      <td>7.0</td>\n",
       "      <td>11.0</td>\n",
       "      <td>7.0</td>\n",
       "      <td>14.0</td>\n",
       "      <td>8.0</td>\n",
       "      <td>€7.6M</td>\n",
       "    </tr>\n",
       "    <tr>\n",
       "      <th>3</th>\n",
       "      <td>164</td>\n",
       "      <td>G. Pinzi</td>\n",
       "      <td>37</td>\n",
       "      <td>https://cdn.sofifa.org/players/4/19/164.png</td>\n",
       "      <td>Italy</td>\n",
       "      <td>https://cdn.sofifa.org/flags/27.png</td>\n",
       "      <td>70</td>\n",
       "      <td>70</td>\n",
       "      <td>Padova</td>\n",
       "      <td>https://cdn.sofifa.org/teams/2/light/110912.png</td>\n",
       "      <td>...</td>\n",
       "      <td>68.0</td>\n",
       "      <td>74.0</td>\n",
       "      <td>71.0</td>\n",
       "      <td>66.0</td>\n",
       "      <td>5.0</td>\n",
       "      <td>15.0</td>\n",
       "      <td>7.0</td>\n",
       "      <td>6.0</td>\n",
       "      <td>13.0</td>\n",
       "      <td>€372K</td>\n",
       "    </tr>\n",
       "    <tr>\n",
       "      <th>4</th>\n",
       "      <td>657</td>\n",
       "      <td>D. Vaughan</td>\n",
       "      <td>35</td>\n",
       "      <td>https://cdn.sofifa.org/players/4/19/657.png</td>\n",
       "      <td>Wales</td>\n",
       "      <td>https://cdn.sofifa.org/flags/50.png</td>\n",
       "      <td>66</td>\n",
       "      <td>66</td>\n",
       "      <td>Notts County</td>\n",
       "      <td>https://cdn.sofifa.org/teams/2/light/1937.png</td>\n",
       "      <td>...</td>\n",
       "      <td>82.0</td>\n",
       "      <td>59.0</td>\n",
       "      <td>66.0</td>\n",
       "      <td>62.0</td>\n",
       "      <td>6.0</td>\n",
       "      <td>9.0</td>\n",
       "      <td>10.0</td>\n",
       "      <td>9.0</td>\n",
       "      <td>7.0</td>\n",
       "      <td>€263K</td>\n",
       "    </tr>\n",
       "    <tr>\n",
       "      <th>5</th>\n",
       "      <td>768</td>\n",
       "      <td>Felipe</td>\n",
       "      <td>33</td>\n",
       "      <td>https://cdn.sofifa.org/players/4/19/768.png</td>\n",
       "      <td>Brazil</td>\n",
       "      <td>https://cdn.sofifa.org/flags/54.png</td>\n",
       "      <td>75</td>\n",
       "      <td>75</td>\n",
       "      <td>SPAL</td>\n",
       "      <td>https://cdn.sofifa.org/teams/2/light/112791.png</td>\n",
       "      <td>...</td>\n",
       "      <td>68.0</td>\n",
       "      <td>77.0</td>\n",
       "      <td>80.0</td>\n",
       "      <td>76.0</td>\n",
       "      <td>11.0</td>\n",
       "      <td>6.0</td>\n",
       "      <td>8.0</td>\n",
       "      <td>9.0</td>\n",
       "      <td>5.0</td>\n",
       "      <td>€4.9M</td>\n",
       "    </tr>\n",
       "    <tr>\n",
       "      <th>6</th>\n",
       "      <td>1179</td>\n",
       "      <td>G. Buffon</td>\n",
       "      <td>40</td>\n",
       "      <td>https://cdn.sofifa.org/players/4/19/1179.png</td>\n",
       "      <td>Italy</td>\n",
       "      <td>https://cdn.sofifa.org/flags/27.png</td>\n",
       "      <td>88</td>\n",
       "      <td>88</td>\n",
       "      <td>Paris Saint-Germain</td>\n",
       "      <td>https://cdn.sofifa.org/teams/2/light/73.png</td>\n",
       "      <td>...</td>\n",
       "      <td>70.0</td>\n",
       "      <td>13.0</td>\n",
       "      <td>11.0</td>\n",
       "      <td>11.0</td>\n",
       "      <td>88.0</td>\n",
       "      <td>87.0</td>\n",
       "      <td>74.0</td>\n",
       "      <td>90.0</td>\n",
       "      <td>83.0</td>\n",
       "      <td>€7.4M</td>\n",
       "    </tr>\n",
       "    <tr>\n",
       "      <th>7</th>\n",
       "      <td>2147</td>\n",
       "      <td>M. Stekelenburg</td>\n",
       "      <td>35</td>\n",
       "      <td>https://cdn.sofifa.org/players/4/19/2147.png</td>\n",
       "      <td>Netherlands</td>\n",
       "      <td>https://cdn.sofifa.org/flags/34.png</td>\n",
       "      <td>73</td>\n",
       "      <td>73</td>\n",
       "      <td>Everton</td>\n",
       "      <td>https://cdn.sofifa.org/teams/2/light/7.png</td>\n",
       "      <td>...</td>\n",
       "      <td>59.0</td>\n",
       "      <td>9.0</td>\n",
       "      <td>15.0</td>\n",
       "      <td>14.0</td>\n",
       "      <td>71.0</td>\n",
       "      <td>72.0</td>\n",
       "      <td>76.0</td>\n",
       "      <td>73.0</td>\n",
       "      <td>73.0</td>\n",
       "      <td>€1.8M</td>\n",
       "    </tr>\n",
       "    <tr>\n",
       "      <th>8</th>\n",
       "      <td>2335</td>\n",
       "      <td>A. Wilbraham</td>\n",
       "      <td>38</td>\n",
       "      <td>https://cdn.sofifa.org/players/4/19/2335.png</td>\n",
       "      <td>England</td>\n",
       "      <td>https://cdn.sofifa.org/flags/14.png</td>\n",
       "      <td>63</td>\n",
       "      <td>63</td>\n",
       "      <td>Rochdale</td>\n",
       "      <td>https://cdn.sofifa.org/teams/2/light/1955.png</td>\n",
       "      <td>...</td>\n",
       "      <td>69.0</td>\n",
       "      <td>24.0</td>\n",
       "      <td>20.0</td>\n",
       "      <td>19.0</td>\n",
       "      <td>12.0</td>\n",
       "      <td>13.0</td>\n",
       "      <td>10.0</td>\n",
       "      <td>10.0</td>\n",
       "      <td>9.0</td>\n",
       "      <td>€228K</td>\n",
       "    </tr>\n",
       "    <tr>\n",
       "      <th>9</th>\n",
       "      <td>2702</td>\n",
       "      <td>K. Ellison</td>\n",
       "      <td>39</td>\n",
       "      <td>https://cdn.sofifa.org/players/4/19/2702.png</td>\n",
       "      <td>England</td>\n",
       "      <td>https://cdn.sofifa.org/flags/14.png</td>\n",
       "      <td>57</td>\n",
       "      <td>57</td>\n",
       "      <td>Morecambe</td>\n",
       "      <td>https://cdn.sofifa.org/teams/2/light/357.png</td>\n",
       "      <td>...</td>\n",
       "      <td>71.0</td>\n",
       "      <td>41.0</td>\n",
       "      <td>36.0</td>\n",
       "      <td>34.0</td>\n",
       "      <td>7.0</td>\n",
       "      <td>11.0</td>\n",
       "      <td>6.0</td>\n",
       "      <td>14.0</td>\n",
       "      <td>6.0</td>\n",
       "      <td>€53K</td>\n",
       "    </tr>\n",
       "  </tbody>\n",
       "</table>\n",
       "<p>10 rows × 88 columns</p>\n",
       "</div>"
      ],
      "text/plain": [
       "     ID             Name  Age                                         Photo  \\\n",
       "0    16      Luis García   37    https://cdn.sofifa.org/players/4/19/16.png   \n",
       "1    41          Iniesta   34    https://cdn.sofifa.org/players/4/19/41.png   \n",
       "2    80     E. Belözoğlu   37    https://cdn.sofifa.org/players/4/19/80.png   \n",
       "3   164         G. Pinzi   37   https://cdn.sofifa.org/players/4/19/164.png   \n",
       "4   657       D. Vaughan   35   https://cdn.sofifa.org/players/4/19/657.png   \n",
       "5   768           Felipe   33   https://cdn.sofifa.org/players/4/19/768.png   \n",
       "6  1179        G. Buffon   40  https://cdn.sofifa.org/players/4/19/1179.png   \n",
       "7  2147  M. Stekelenburg   35  https://cdn.sofifa.org/players/4/19/2147.png   \n",
       "8  2335     A. Wilbraham   38  https://cdn.sofifa.org/players/4/19/2335.png   \n",
       "9  2702       K. Ellison   39  https://cdn.sofifa.org/players/4/19/2702.png   \n",
       "\n",
       "   Nationality                                 Flag  Overall  Potential  \\\n",
       "0        Spain  https://cdn.sofifa.org/flags/45.png       71         71   \n",
       "1        Spain  https://cdn.sofifa.org/flags/45.png       86         86   \n",
       "2       Turkey  https://cdn.sofifa.org/flags/48.png       79         79   \n",
       "3        Italy  https://cdn.sofifa.org/flags/27.png       70         70   \n",
       "4        Wales  https://cdn.sofifa.org/flags/50.png       66         66   \n",
       "5       Brazil  https://cdn.sofifa.org/flags/54.png       75         75   \n",
       "6        Italy  https://cdn.sofifa.org/flags/27.png       88         88   \n",
       "7  Netherlands  https://cdn.sofifa.org/flags/34.png       73         73   \n",
       "8      England  https://cdn.sofifa.org/flags/14.png       63         63   \n",
       "9      England  https://cdn.sofifa.org/flags/14.png       57         57   \n",
       "\n",
       "                    Club                                        Club Logo  \\\n",
       "0              KAS Eupen    https://cdn.sofifa.org/teams/2/light/2013.png   \n",
       "1            Vissel Kobe  https://cdn.sofifa.org/teams/2/light/101146.png   \n",
       "2  Medipol Başakşehir FK  https://cdn.sofifa.org/teams/2/light/101014.png   \n",
       "3                 Padova  https://cdn.sofifa.org/teams/2/light/110912.png   \n",
       "4           Notts County    https://cdn.sofifa.org/teams/2/light/1937.png   \n",
       "5                   SPAL  https://cdn.sofifa.org/teams/2/light/112791.png   \n",
       "6    Paris Saint-Germain      https://cdn.sofifa.org/teams/2/light/73.png   \n",
       "7                Everton       https://cdn.sofifa.org/teams/2/light/7.png   \n",
       "8               Rochdale    https://cdn.sofifa.org/teams/2/light/1955.png   \n",
       "9              Morecambe     https://cdn.sofifa.org/teams/2/light/357.png   \n",
       "\n",
       "   ... Composure Marking  StandingTackle SlidingTackle  GKDiving  GKHandling  \\\n",
       "0  ...      79.0    70.0            43.0          40.0       9.0        12.0   \n",
       "1  ...      89.0    67.0            57.0          56.0       6.0        13.0   \n",
       "2  ...      80.0    65.0            67.0          60.0       7.0        11.0   \n",
       "3  ...      68.0    74.0            71.0          66.0       5.0        15.0   \n",
       "4  ...      82.0    59.0            66.0          62.0       6.0         9.0   \n",
       "5  ...      68.0    77.0            80.0          76.0      11.0         6.0   \n",
       "6  ...      70.0    13.0            11.0          11.0      88.0        87.0   \n",
       "7  ...      59.0     9.0            15.0          14.0      71.0        72.0   \n",
       "8  ...      69.0    24.0            20.0          19.0      12.0        13.0   \n",
       "9  ...      71.0    41.0            36.0          34.0       7.0        11.0   \n",
       "\n",
       "   GKKicking GKPositioning GKReflexes Release Clause  \n",
       "0       13.0          11.0       11.0          €1.1M  \n",
       "1        6.0          13.0        7.0         €26.9M  \n",
       "2        7.0          14.0        8.0          €7.6M  \n",
       "3        7.0           6.0       13.0          €372K  \n",
       "4       10.0           9.0        7.0          €263K  \n",
       "5        8.0           9.0        5.0          €4.9M  \n",
       "6       74.0          90.0       83.0          €7.4M  \n",
       "7       76.0          73.0       73.0          €1.8M  \n",
       "8       10.0          10.0        9.0          €228K  \n",
       "9        6.0          14.0        6.0           €53K  \n",
       "\n",
       "[10 rows x 88 columns]"
      ]
     },
     "execution_count": 3,
     "metadata": {},
     "output_type": "execute_result"
    }
   ],
   "source": [
    "data.head(10)"
   ]
  },
  {
   "cell_type": "code",
   "execution_count": 4,
   "metadata": {},
   "outputs": [
    {
     "data": {
      "image/png": "[encoded data removed]",
      "text/plain": [
       "<Figure size 432x288 with 1 Axes>"
      ]
     },
     "metadata": {
      "needs_background": "light"
     },
     "output_type": "display_data"
    }
   ],
   "source": [
    "plt.hist(data['Overall'], bins=(max(data['Overall']-min(data['Overall']))//1))\n",
    "plt.title('Overall score distribution',{'fontsize':16})\n",
    "plt.show()"
   ]
  },
  {
   "cell_type": "markdown",
   "metadata": {},
   "source": [
    "### We can see that the Overall column approximates to Normal distribution using CLT. Hence the game is well-balanced. Here we are setting the bin-width to 1 so that every score gets represented on the graph. "
   ]
  },
  {
   "cell_type": "markdown",
   "metadata": {},
   "source": [
    "### The tails represent the outliers as there are very few players who are either exceptionally good or exceptionally bad in the overall performance."
   ]
  },
  {
   "cell_type": "markdown",
   "metadata": {},
   "source": [
    "### If we take a smaller random sample from the dataset and then plot a histogram of the Overall scores."
   ]
  },
  {
   "cell_type": "code",
   "execution_count": 5,
   "metadata": {},
   "outputs": [],
   "source": [
    "sample = data.head(20)"
   ]
  },
  {
   "cell_type": "code",
   "execution_count": 6,
   "metadata": {},
   "outputs": [
    {
     "data": {
      "image/png": "[encoded data removed]",
      "text/plain": [
       "<Figure size 432x288 with 1 Axes>"
      ]
     },
     "metadata": {
      "needs_background": "light"
     },
     "output_type": "display_data"
    }
   ],
   "source": [
    "plt.hist(sample['Overall'], bins = (max(sample['Overall']) - min(sample['Overall']))//3)\n",
    "plt.title('Overall score distribution for 20 random players',{'fontsize':16})\n",
    "plt.show()"
   ]
  },
  {
   "cell_type": "markdown",
   "metadata": {},
   "source": [
    "### The fatter tails, small sample size and bell shape indicates that it is a Student's T distribution."
   ]
  },
  {
   "cell_type": "code",
   "execution_count": 7,
   "metadata": {},
   "outputs": [
    {
     "data": {
      "text/plain": [
       "['ID',\n",
       " 'Name',\n",
       " 'Age',\n",
       " 'Photo',\n",
       " 'Nationality',\n",
       " 'Flag',\n",
       " 'Overall',\n",
       " 'Potential',\n",
       " 'Club',\n",
       " 'Club Logo',\n",
       " 'Value',\n",
       " 'Wage',\n",
       " 'Special',\n",
       " 'Preferred Foot',\n",
       " 'International Reputation',\n",
       " 'Weak Foot',\n",
       " 'Skill Moves',\n",
       " 'Work Rate',\n",
       " 'Body Type',\n",
       " 'Real Face',\n",
       " 'Position',\n",
       " 'Jersey Number',\n",
       " 'Joined',\n",
       " 'Loaned From',\n",
       " 'Contract Valid Until',\n",
       " 'Height',\n",
       " 'Weight',\n",
       " 'LS',\n",
       " 'ST',\n",
       " 'RS',\n",
       " 'LW',\n",
       " 'LF',\n",
       " 'CF',\n",
       " 'RF',\n",
       " 'RW',\n",
       " 'LAM',\n",
       " 'CAM',\n",
       " 'RAM',\n",
       " 'LM',\n",
       " 'LCM',\n",
       " 'CM',\n",
       " 'RCM',\n",
       " 'RM',\n",
       " 'LWB',\n",
       " 'LDM',\n",
       " 'CDM',\n",
       " 'RDM',\n",
       " 'RWB',\n",
       " 'LB',\n",
       " 'LCB',\n",
       " 'CB',\n",
       " 'RCB',\n",
       " 'RB',\n",
       " 'Crossing',\n",
       " 'Finishing',\n",
       " 'HeadingAccuracy',\n",
       " 'ShortPassing',\n",
       " 'Volleys',\n",
       " 'Dribbling',\n",
       " 'Curve',\n",
       " 'FKAccuracy',\n",
       " 'LongPassing',\n",
       " 'BallControl',\n",
       " 'Acceleration',\n",
       " 'SprintSpeed',\n",
       " 'Agility',\n",
       " 'Reactions',\n",
       " 'Balance',\n",
       " 'ShotPower',\n",
       " 'Jumping',\n",
       " 'Stamina',\n",
       " 'Strength',\n",
       " 'LongShots',\n",
       " 'Aggression',\n",
       " 'Interceptions',\n",
       " 'Positioning',\n",
       " 'Vision',\n",
       " 'Penalties',\n",
       " 'Composure',\n",
       " 'Marking',\n",
       " 'StandingTackle',\n",
       " 'SlidingTackle',\n",
       " 'GKDiving',\n",
       " 'GKHandling',\n",
       " 'GKKicking',\n",
       " 'GKPositioning',\n",
       " 'GKReflexes',\n",
       " 'Release Clause']"
      ]
     },
     "execution_count": 7,
     "metadata": {},
     "output_type": "execute_result"
    }
   ],
   "source": [
    "list(data.columns)"
   ]
  },
  {
   "cell_type": "markdown",
   "metadata": {},
   "source": [
    "## Plotting the histogram for the Shot Power column"
   ]
  },
  {
   "cell_type": "code",
   "execution_count": 8,
   "metadata": {},
   "outputs": [
    {
     "name": "stderr",
     "output_type": "stream",
     "text": [
      "C:\\Anaconda3\\lib\\site-packages\\numpy\\lib\\histograms.py:824: RuntimeWarning: invalid value encountered in greater_equal\n",
      "  keep = (tmp_a >= first_edge)\n",
      "C:\\Anaconda3\\lib\\site-packages\\numpy\\lib\\histograms.py:825: RuntimeWarning: invalid value encountered in less_equal\n",
      "  keep &= (tmp_a <= last_edge)\n"
     ]
    },
    {
     "data": {
      "image/png": "[encoded data removed]",
      "text/plain": [
       "<Figure size 432x288 with 1 Axes>"
      ]
     },
     "metadata": {
      "needs_background": "light"
     },
     "output_type": "display_data"
    }
   ],
   "source": [
    "plt.hist(data['ShotPower'], bins=int((max(data['ShotPower']) - min(data['ShotPower']))//1))\n",
    "plt.title('ShotPower score distribution',{'fontsize':16})\n",
    "plt.show()"
   ]
  },
  {
   "cell_type": "markdown",
   "metadata": {},
   "source": [
    "### We can interpret this as two distinct groups of players - goalkeepers and outfield players. Goalkeepers have a mean around 21 and Outfield players have a mean around 65. The goalkeepers have very low score for the non-goalkeeper related stats and vice versa."
   ]
  },
  {
   "cell_type": "markdown",
   "metadata": {},
   "source": [
    "### e.g. if we plot a goalkeeper specific stat like GK Diving...."
   ]
  },
  {
   "cell_type": "code",
   "execution_count": 9,
   "metadata": {},
   "outputs": [
    {
     "data": {
      "image/png": "[encoded data removed]",
      "text/plain": [
       "<Figure size 432x288 with 1 Axes>"
      ]
     },
     "metadata": {
      "needs_background": "light"
     },
     "output_type": "display_data"
    }
   ],
   "source": [
    "plt.hist(data['GKDiving'], bins=int(max(data['GKDiving']) - min(data['GKDiving'])//1))\n",
    "plt.title('Goalkeeper Diving score distribution',{'fontsize':16})\n",
    "plt.show()"
   ]
  },
  {
   "cell_type": "markdown",
   "metadata": {},
   "source": [
    "### We can see low scores for Outfield players and high scores for goalkeepers. Furthermore, the histogram of goalkeepers is normally distributed, indicating a fair and balanced game."
   ]
  },
  {
   "cell_type": "markdown",
   "metadata": {},
   "source": [
    "## Another aspect of realism is age."
   ]
  },
  {
   "cell_type": "code",
   "execution_count": 10,
   "metadata": {},
   "outputs": [
    {
     "data": {
      "image/png": "[encoded data removed]",
      "text/plain": [
       "<Figure size 432x288 with 1 Axes>"
      ]
     },
     "metadata": {
      "needs_background": "light"
     },
     "output_type": "display_data"
    }
   ],
   "source": [
    "plt.hist(data['Age'], bins=(max(data['Age']-min(data['Age']))//1))\n",
    "plt.title('Age distribution',{'fontsize':16})\n",
    "plt.show()"
   ]
  },
  {
   "cell_type": "markdown",
   "metadata": {},
   "source": [
    "### This is a right-skewed histogram indicating a Poisson distribution. We can see that there are more young players than older ones, which is true in real life as many are forced to retire early due to injuries or college studies. Hence, the realism is intact."
   ]
  },
  {
   "cell_type": "markdown",
   "metadata": {},
   "source": [
    "Another important point for any game success is customer engagement. EA releases demo gameplay videos every week. So, we plot a scatter plot between **Days after release** and **Daily Views**."
   ]
  },
  {
   "cell_type": "code",
   "execution_count": 11,
   "metadata": {},
   "outputs": [
    {
     "data": {
      "image/png": "[encoded data removed]",
      "text/plain": [
       "<Figure size 432x288 with 1 Axes>"
      ]
     },
     "metadata": {
      "needs_background": "light"
     },
     "output_type": "display_data"
    }
   ],
   "source": [
    "views = pd.read_excel('Daily-Views.xlsx')\n",
    "\n",
    "plt.scatter(views['Days after release'], views['Daily Views'])\n",
    "plt.xlabel('Number of days post release',{'fontsize':14})\n",
    "plt.ylabel('Daily Views',{'fontsize':14})\n",
    "plt.show()"
   ]
  },
  {
   "cell_type": "markdown",
   "metadata": {},
   "source": [
    "### We can see that the data points follow an exponential distribution. The numbers of views start off rather high during the initial release date, but falls exponentially as the days pass. When its almost 2 weeks, the per day view count is negligible. To confirm that the data follows an exponential trendline, we can draw the CDF."
   ]
  },
  {
   "cell_type": "code",
   "execution_count": 12,
   "metadata": {},
   "outputs": [],
   "source": [
    "views['Total Views'] = views['Daily Views'].cumsum()"
   ]
  },
  {
   "cell_type": "code",
   "execution_count": 13,
   "metadata": {},
   "outputs": [
    {
     "data": {
      "text/html": [
       "<div>\n",
       "<style scoped>\n",
       "    .dataframe tbody tr th:only-of-type {\n",
       "        vertical-align: middle;\n",
       "    }\n",
       "\n",
       "    .dataframe tbody tr th {\n",
       "        vertical-align: top;\n",
       "    }\n",
       "\n",
       "    .dataframe thead th {\n",
       "        text-align: right;\n",
       "    }\n",
       "</style>\n",
       "<table border=\"1\" class=\"dataframe\">\n",
       "  <thead>\n",
       "    <tr style=\"text-align: right;\">\n",
       "      <th></th>\n",
       "      <th>Days after release</th>\n",
       "      <th>Daily Views</th>\n",
       "      <th>Total Views</th>\n",
       "    </tr>\n",
       "  </thead>\n",
       "  <tbody>\n",
       "    <tr>\n",
       "      <th>0</th>\n",
       "      <td>1</td>\n",
       "      <td>99.326865</td>\n",
       "      <td>99.326865</td>\n",
       "    </tr>\n",
       "    <tr>\n",
       "      <th>1</th>\n",
       "      <td>2</td>\n",
       "      <td>96.532353</td>\n",
       "      <td>195.859218</td>\n",
       "    </tr>\n",
       "    <tr>\n",
       "      <th>2</th>\n",
       "      <td>3</td>\n",
       "      <td>51.809436</td>\n",
       "      <td>247.668654</td>\n",
       "    </tr>\n",
       "    <tr>\n",
       "      <th>3</th>\n",
       "      <td>4</td>\n",
       "      <td>58.549832</td>\n",
       "      <td>306.218485</td>\n",
       "    </tr>\n",
       "    <tr>\n",
       "      <th>4</th>\n",
       "      <td>5</td>\n",
       "      <td>31.318047</td>\n",
       "      <td>337.536532</td>\n",
       "    </tr>\n",
       "  </tbody>\n",
       "</table>\n",
       "</div>"
      ],
      "text/plain": [
       "   Days after release  Daily Views  Total Views\n",
       "0                   1    99.326865    99.326865\n",
       "1                   2    96.532353   195.859218\n",
       "2                   3    51.809436   247.668654\n",
       "3                   4    58.549832   306.218485\n",
       "4                   5    31.318047   337.536532"
      ]
     },
     "execution_count": 13,
     "metadata": {},
     "output_type": "execute_result"
    }
   ],
   "source": [
    "views.head()"
   ]
  },
  {
   "cell_type": "code",
   "execution_count": 14,
   "metadata": {},
   "outputs": [
    {
     "data": {
      "image/png": "[encoded data removed]",
      "text/plain": [
       "<Figure size 432x288 with 1 Axes>"
      ]
     },
     "metadata": {
      "needs_background": "light"
     },
     "output_type": "display_data"
    }
   ],
   "source": [
    "plt.scatter(views['Days after release'], views['Total Views'])\n",
    "plt.xlabel('Number of days post release',{'fontsize':14})\n",
    "plt.ylabel('Total Views',{'fontsize':14})\n",
    "plt.show()"
   ]
  },
  {
   "cell_type": "markdown",
   "metadata": {},
   "source": [
    "And it surely matches the CDF of an exponential distribution. What we can take from that is -- such videos lose customer relevency rather quickly. So, they are good for short term marketing only. Therefore, the company should release such videos near the release date of the game so that they generate enough views without losing customer interest."
   ]
  },
  {
   "cell_type": "markdown",
   "metadata": {},
   "source": [
    "## We should do some customer analysis as well to target those who will benefit us the most"
   ]
  },
  {
   "cell_type": "markdown",
   "metadata": {},
   "source": [
    "Here, we analyse a sample of people according to whether they are a premium member or not."
   ]
  },
  {
   "cell_type": "code",
   "execution_count": 15,
   "metadata": {},
   "outputs": [
    {
     "data": {
      "text/html": [
       "<div>\n",
       "<style scoped>\n",
       "    .dataframe tbody tr th:only-of-type {\n",
       "        vertical-align: middle;\n",
       "    }\n",
       "\n",
       "    .dataframe tbody tr th {\n",
       "        vertical-align: top;\n",
       "    }\n",
       "\n",
       "    .dataframe thead th {\n",
       "        text-align: right;\n",
       "    }\n",
       "</style>\n",
       "<table border=\"1\" class=\"dataframe\">\n",
       "  <thead>\n",
       "    <tr style=\"text-align: right;\">\n",
       "      <th></th>\n",
       "      <th>Customer Age</th>\n",
       "      <th>Membership Status</th>\n",
       "    </tr>\n",
       "  </thead>\n",
       "  <tbody>\n",
       "    <tr>\n",
       "      <th>0</th>\n",
       "      <td>26</td>\n",
       "      <td>0</td>\n",
       "    </tr>\n",
       "    <tr>\n",
       "      <th>1</th>\n",
       "      <td>30</td>\n",
       "      <td>0</td>\n",
       "    </tr>\n",
       "    <tr>\n",
       "      <th>2</th>\n",
       "      <td>24</td>\n",
       "      <td>0</td>\n",
       "    </tr>\n",
       "    <tr>\n",
       "      <th>3</th>\n",
       "      <td>19</td>\n",
       "      <td>0</td>\n",
       "    </tr>\n",
       "    <tr>\n",
       "      <th>4</th>\n",
       "      <td>39</td>\n",
       "      <td>1</td>\n",
       "    </tr>\n",
       "  </tbody>\n",
       "</table>\n",
       "</div>"
      ],
      "text/plain": [
       "   Customer Age  Membership Status\n",
       "0            26                  0\n",
       "1            30                  0\n",
       "2            24                  0\n",
       "3            19                  0\n",
       "4            39                  1"
      ]
     },
     "execution_count": 15,
     "metadata": {},
     "output_type": "execute_result"
    }
   ],
   "source": [
    "customers = pd.read_excel('Customers-Membership.xlsx')\n",
    "customers.head()"
   ]
  },
  {
   "cell_type": "markdown",
   "metadata": {},
   "source": [
    "We plot a scatter plot."
   ]
  },
  {
   "cell_type": "code",
   "execution_count": 16,
   "metadata": {},
   "outputs": [
    {
     "data": {
      "image/png": "[encoded data removed]",
      "text/plain": [
       "<Figure size 432x288 with 1 Axes>"
      ]
     },
     "metadata": {
      "needs_background": "light"
     },
     "output_type": "display_data"
    }
   ],
   "source": [
    "plt.scatter(customers['Customer Age'], customers['Membership Status'])\n",
    "plt.xlabel('Customer Age',{'fontsize':14})\n",
    "plt.ylabel('Membership Status',{'fontsize':14})\n",
    "plt.show()"
   ]
  },
  {
   "cell_type": "markdown",
   "metadata": {},
   "source": [
    "We can see that majority of people above the age of 34 has a premium membership. We can conclude that the data follows a **logistic distribution** with 34 being the **location** of the distribution, as after that age, most people can afford membership fees and there is a sharp increase in the number of people willing to take the membership. So we should target that age-group to sell for example limited legendary FIFA players cards etc."
   ]
  },
  {
   "cell_type": "code",
   "execution_count": null,
   "metadata": {},
   "outputs": [],
   "source": []
  }
 ],
 "metadata": {
  "kernelspec": {
   "display_name": "Python 3",
   "language": "python",
   "name": "python3"
  },
  "language_info": {
   "codemirror_mode": {
    "name": "ipython",
    "version": 3
   },
   "file_extension": ".py",
   "mimetype": "text/x-python",
   "name": "python",
   "nbconvert_exporter": "python",
   "pygments_lexer": "ipython3",
   "version": "3.7.3"
  }
 },
 "nbformat": 4,
 "nbformat_minor": 2
}
